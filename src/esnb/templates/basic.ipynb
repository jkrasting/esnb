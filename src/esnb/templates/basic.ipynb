{
 "cells": [
  {
   "cell_type": "markdown",
   "id": "e4a43ed7-7624-4da9-b213-32f892574a65",
   "metadata": {},
   "source": [
    "# Unified MDTF/GFDL/NCAR Analysis Notebook Template\n",
    "\n",
    "More details on the development process:\n",
    "[MDTF Planning Document](https://docs.google.com/document/d/1P8HqL8O5304qwR3ik9RmgFDwSWwlkPgOjnp39PIkLfY/edit?usp=sharing)"
   ]
  },
  {
   "cell_type": "code",
   "execution_count": 1,
   "id": "e67185bc-4731-4c89-b63a-ca8953428f07",
   "metadata": {},
   "outputs": [],
   "source": [
    "# Development mode: constantly refreshes module code\n",
    "%load_ext autoreload\n",
    "%autoreload 2"
   ]
  },
  {
   "cell_type": "markdown",
   "id": "6898886b-b5e1-4de0-939a-f715748be915",
   "metadata": {},
   "source": [
    "## Framework Code and Diagnostic Setup"
   ]
  },
  {
   "cell_type": "code",
   "execution_count": 2,
   "id": "4168ea13-0a51-4f50-b0ae-8cccbd75161b",
   "metadata": {},
   "outputs": [],
   "source": [
    "from esnb import NotebookDiagnostic, RequestedVariable, CaseGroup"
   ]
  },
  {
   "cell_type": "code",
   "execution_count": 6,
   "id": "aa1a552a-083f-4019-8d41-815bb2611c61",
   "metadata": {},
   "outputs": [
    {
     "name": "stdout",
     "output_type": "stream",
     "text": [
      "cm5-9: Fetching metadata from Dora\n",
      "cm5-9: Loading intake catalog from Dora\n",
      "1188: Fetching metadata from Dora\n",
      "1188: Loading intake catalog from Dora\n",
      "1243: Fetching metadata from Dora\n",
      "1243: Loading intake catalog from Dora\n",
      "Resolving required vars for cm5_c96L65_am5f7c1r0_om5_b10_nonbous_piC\n",
      "Resolving required vars for ESM4_historical_D1\n",
      "Resolving required vars for ESM4_ssp585_D1\n",
      "dmget: All files are online\n",
      "dmget: All files are online\n",
      "CPU times: user 12.5 s, sys: 511 ms, total: 13 s\n",
      "Wall time: 13.9 s\n"
     ]
    }
   ],
   "source": [
    "%%time\n",
    "\n",
    "# Define a mode (leave \"prod\" for now)\n",
    "mode = \"prod\"\n",
    "\n",
    "# Verbosity\n",
    "verbose = True\n",
    "\n",
    "# Give your diagnostic a name and a short description\n",
    "diag_name = \"Example Notebook-based Diagnostic\"\n",
    "diag_desc = \"This example demonstrates how to use the notebook template\"\n",
    "\n",
    "# Define what variables you would like to analyze. The first entry is the\n",
    "# variable name and the second entry is the realm (post-processing dir).\n",
    "#   (By default, monthly timeseries data will be loaded. TODO: add documentation\n",
    "#    on how to select different frequencies, multiple realms to search, etc.)\n",
    "variables = [\n",
    "    RequestedVariable(\"zos\", \"ocean_month\"),\n",
    "    RequestedVariable(\"tos\", \"ocean_month\"),\n",
    "    RequestedVariable(\"tas\", \"atmos_cmip\"),\n",
    "]\n",
    "\n",
    "# Optional: define runtime settings or options for your diagnostic\n",
    "user_options = {\"enso_region\": [\"nino34\"]}\n",
    "\n",
    "# Initialize the diagnostic with its name, description, vars, and options\n",
    "diag = NotebookDiagnostic(diag_name, diag_desc, variables=variables, **user_options)\n",
    "\n",
    "# Define the groups of experiments to analyze. Provide a single dora id for one experiment\n",
    "# or a list of IDs to aggregate multiple experiments into one; e.g. historical+future runs\n",
    "groups = [\n",
    "    CaseGroup(\"cm5-9\", date_range=(\"0041-01-01\", \"0060-12-31\"), verbose=verbose),\n",
    "    CaseGroup(\n",
    "        [1188, 1243],\n",
    "        \"time\",\n",
    "        name=\"ESM4 Historical + Future\",\n",
    "        date_range=(\"1993-01-01\", \"2022-12-31\"),\n",
    "        verbose=verbose,\n",
    "    ),\n",
    "]\n",
    "\n",
    "# Combine the experiments with the diag request and determine what files need to be loaded:\n",
    "_ = [x.resolve_datasets(diag) for x in groups]\n",
    "\n",
    "# Dmget the necessary files\n",
    "_ = [x.dmget() for x in groups]\n",
    "\n",
    "# Load the data as xarray datasets\n",
    "_ = [x.load() for x in groups]\n",
    "\n",
    "# Put all of the xarray datasets into a list\n",
    "dsets = [x.ds for x in groups]"
   ]
  },
  {
   "cell_type": "code",
   "execution_count": null,
   "id": "23b4dd77-4ea9-475f-a6ef-386878b3e9fb",
   "metadata": {},
   "outputs": [],
   "source": []
  }
 ],
 "metadata": {
  "kernelspec": {
   "display_name": "Python 3 (ipykernel)",
   "language": "python",
   "name": "python3"
  },
  "language_info": {
   "codemirror_mode": {
    "name": "ipython",
    "version": 3
   },
   "file_extension": ".py",
   "mimetype": "text/x-python",
   "name": "python",
   "nbconvert_exporter": "python",
   "pygments_lexer": "ipython3",
   "version": "3.12.10"
  }
 },
 "nbformat": 4,
 "nbformat_minor": 5
}
